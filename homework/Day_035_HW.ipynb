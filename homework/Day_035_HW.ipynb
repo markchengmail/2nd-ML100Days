{
 "cells": [
  {
   "cell_type": "markdown",
   "metadata": {},
   "source": [
    "## 練習時間\n",
    "相信大家對回歸問題及分類問題都有初步的了解。今天的作業希望大家搜尋有關 multi-label 的案例問題。下圖是電影 \"奇異博士\" 的分類。可以看到同時有 \"Action\", \"Adventure\", \"Fantasy\" 的類別存在，代表這是個多標籤的問題。 "
   ]
  },
  {
   "cell_type": "markdown",
   "metadata": {},
   "source": [
    "![image](https://cdn-images-1.medium.com/max/1000/1*r0gYXMSQf5VhdMyl2bRDyg.png)"
   ]
  },
  {
   "cell_type": "markdown",
   "metadata": {},
   "source": [
    "## 請搜尋目標為多標籤問題 (Multi-label) 的機器學習案例，了解其資料來源、目標以及評估指標為何\n",
    "## Hint: 服飾"
   ]
  },
  {
   "cell_type": "markdown",
   "metadata": {},
   "source": [
    "多類分類和多標籤分類之間的區別在於，在多類問題中，類是相互排斥的，而對於多標籤問題，每個標籤表示不同的分類任務，但是任務有某種相關性。\n",
    "\n",
    "多標籤分類的一個例子可能是文本可能是關於宗教，政治，金融或教育的任何一個，或者都不是這些\n",
    "\n",
    "原文網址：https://kknews.cc/zh-tw/other/4l5rm9x.html\n"
   ]
  },
  {
   "cell_type": "markdown",
   "metadata": {},
   "source": [
    "問題定義：\n",
    "我們面臨著構建多標籤模型的挑戰，該模型能夠檢測威脅，淫穢，侮辱和身份仇恨等不同類型的惡意。我們需要創建一個模型來預測每個評論的每種惡意的可能性\n",
    "\n",
    "\n",
    "評估指標：\n",
    "單標籤的評估措施通常與多標籤不同。在單標籤分類中，我們使用簡單的度量標準，如精度，召回率，準確度等\n",
    "在多標籤分類中，錯誤分類不再是一個嚴重的錯誤或正確的分類。包含實際類別的子集的預測應該被認為比不包含它們的預測更好，即，正確地預測三個標籤中的兩個，這比完全不預測標籤更好\n",
    "\n",
    "原文網址：https://kknews.cc/zh-tw/other/4l5rm9x.html\n"
   ]
  }
 ],
 "metadata": {
  "kernelspec": {
   "display_name": "Python [default]",
   "language": "python",
   "name": "python3"
  },
  "language_info": {
   "codemirror_mode": {
    "name": "ipython",
    "version": 3
   },
   "file_extension": ".py",
   "mimetype": "text/x-python",
   "name": "python",
   "nbconvert_exporter": "python",
   "pygments_lexer": "ipython3",
   "version": "3.6.6"
  }
 },
 "nbformat": 4,
 "nbformat_minor": 2
}
